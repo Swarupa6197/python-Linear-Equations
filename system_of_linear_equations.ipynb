{
 "cells": [
  {
   "cell_type": "code",
   "execution_count": 2,
   "id": "4e69ad50-a64a-408d-8c1a-beaffe9f536d",
   "metadata": {},
   "outputs": [
    {
     "data": {
      "text/plain": [
       "array([ 20., -49.,  30.])"
      ]
     },
     "execution_count": 2,
     "metadata": {},
     "output_type": "execute_result"
    }
   ],
   "source": [
    "# gaussian elimination method\n",
    "import numpy as np\n",
    "a = np.array([[1,2,3],\n",
    "             [4,0,-2],\n",
    "             [3,3,3]])\n",
    "b = np.array([12,20,3])\n",
    "x= np.linalg.solve(a,b)\n",
    "x"
   ]
  },
  {
   "cell_type": "code",
   "execution_count": 5,
   "id": "010d0a89-c7d5-477d-aae6-25f1b2e4bc21",
   "metadata": {},
   "outputs": [
    {
     "data": {
      "text/plain": [
       "array([1., 2.])"
      ]
     },
     "execution_count": 5,
     "metadata": {},
     "output_type": "execute_result"
    }
   ],
   "source": [
    "# inverse matrix method\n",
    "a=np.array([[2,3],\n",
    "          [1,2]])\n",
    "b=np.array([8,5])\n",
    "\n",
    "# inverse of matrix\n",
    "a_inv=np.linalg.inv(a)\n",
    "a_inv\n",
    "\n",
    "#solving inverse matrix\n",
    "x=np.dot(a_inv,b)\n",
    "x"
   ]
  },
  {
   "cell_type": "code",
   "execution_count": 6,
   "id": "9fb45123-6015-4658-a5b5-8a7a571e26a0",
   "metadata": {},
   "outputs": [
    {
     "data": {
      "text/plain": [
       "array([ 20., -49.,  30.])"
      ]
     },
     "execution_count": 6,
     "metadata": {},
     "output_type": "execute_result"
    }
   ],
   "source": [
    "# inverse matrix method\n",
    "a = np.array([[1,2,3],\n",
    "             [4,0,-2],\n",
    "             [3,3,3]])\n",
    "b = np.array([12,20,3])\n",
    "\n",
    "# inverse of matrix\n",
    "a_inv=np.linalg.inv(a)\n",
    "a_inv\n",
    "\n",
    "#solving inverse matrix\n",
    "x=np.dot(a_inv,b)\n",
    "x"
   ]
  },
  {
   "cell_type": "code",
   "execution_count": null,
   "id": "46d477ad-7786-460d-8fe8-b85f5fdef42f",
   "metadata": {},
   "outputs": [],
   "source": []
  }
 ],
 "metadata": {
  "kernelspec": {
   "display_name": "Python 3 (ipykernel)",
   "language": "python",
   "name": "python3"
  },
  "language_info": {
   "codemirror_mode": {
    "name": "ipython",
    "version": 3
   },
   "file_extension": ".py",
   "mimetype": "text/x-python",
   "name": "python",
   "nbconvert_exporter": "python",
   "pygments_lexer": "ipython3",
   "version": "3.13.7"
  }
 },
 "nbformat": 4,
 "nbformat_minor": 5
}
